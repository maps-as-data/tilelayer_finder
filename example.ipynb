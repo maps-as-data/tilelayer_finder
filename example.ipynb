{
 "cells": [
  {
   "cell_type": "code",
   "execution_count": 3,
   "metadata": {},
   "outputs": [],
   "source": [
    "from tilelayer_finder import finder"
   ]
  },
  {
   "cell_type": "code",
   "execution_count": 4,
   "metadata": {},
   "outputs": [],
   "source": [
    "tlf = finder.TileLayerFinder()"
   ]
  },
  {
   "cell_type": "code",
   "execution_count": 5,
   "metadata": {},
   "outputs": [
    {
     "name": "stdout",
     "output_type": "stream",
     "text": [
      "[INFO] Current file is: 'https://maps.nls.uk/geo/scripts/20230728/explore-layers-ol6.js'\n",
      "[INFO] Tile dataframe has 118 values.\n",
      "[INFO] Group dataframe has 26 values.\n"
     ]
    }
   ],
   "source": [
    "tlf.get_data(clean=True)"
   ]
  },
  {
   "cell_type": "code",
   "execution_count": 6,
   "metadata": {},
   "outputs": [
    {
     "name": "stdout",
     "output_type": "stream",
     "text": [
      "oneinch2nd\n",
      "oneinch2ndscot\n",
      "bartgreatbritain\n",
      "bartgreatbritain1940s\n",
      "twentyfivethousandoutline\n",
      "gsgs3906\n",
      "airphotosScotland\n",
      "airphotosEngland\n",
      "airphotos1250layer\n",
      "airphotos1250layer_238225828\n",
      "airphotos1250layer_238223269\n",
      "nls\n",
      "os25inchblueandblacks\n",
      "os25inchblueandblacks_tiles\n",
      "os25inchblueandblacksOS\n",
      "OS25inchGloucester3rd\n",
      "OS25inchGloucester3rdengland\n",
      "oneinchgeologyscot\n",
      "oneinchgeologyeng\n",
      "sixinchgeologyscot\n",
      "sixinchgeologyeng\n",
      "oneinchgsgs3908\n",
      "oneinchsoils\n",
      "oneinchlandusescot\n",
      "oneinchlanduseeng\n",
      "quarterinchfirstoutline\n",
      "quarterinchfirsthills\n",
      "quarterinchcivilair\n",
      "quarterinchfourth\n",
      "OS10knatgridgreat_britain_all\n",
      "aberdeen\n",
      "airdrie\n",
      "alexandria\n",
      "alloa\n",
      "annan\n",
      "arbroath\n",
      "ayr\n",
      "berwick\n",
      "brechin\n",
      "burntisland1824\n",
      "burntisland\n",
      "campbeltown\n",
      "coatbridge\n",
      "cupar1854\n",
      "cupar1893\n",
      "dalkeith1852\n",
      "dalkeith1893\n",
      "dumbarton\n",
      "dumfries1850\n",
      "dumfries1893\n",
      "dundee1857\n",
      "dundee1870\n",
      "dunfermline1854\n",
      "dunfermline1893\n",
      "elgin\n",
      "falkirk\n",
      "forfar\n",
      "forres\n",
      "galashiels\n",
      "girvan\n",
      "greenock\n",
      "greenock_goad\n",
      "haddington1853\n",
      "haddington1893\n",
      "hamilton\n",
      "hawick\n",
      "irvine\n",
      "inverness\n",
      "jedburgh\n",
      "kelso\n",
      "kilmarnock\n",
      "kirkcaldy1855\n",
      "kirkcaldy1894\n",
      "kirkcudbright1850\n",
      "kirkcudbright1893\n",
      "kirkintilloch\n",
      "kirriemuir\n",
      "lanark\n",
      "linlithgow\n",
      "maybole\n",
      "montrose\n",
      "musselburgh1853\n",
      "musselburgh1893\n",
      "nairn\n",
      "oban\n",
      "paisley\n",
      "paisley_goad\n",
      "peebles\n",
      "peterhead\n",
      "portobello\n",
      "portglasgow\n",
      "rothesay\n",
      "standrews1854\n",
      "standrews1893\n",
      "selkirk\n",
      "stirling\n",
      "stonehaven\n",
      "stranraer1847\n",
      "stranraer1867\n",
      "strathaven\n",
      "wick\n",
      "wigtown1848\n",
      "campbeltown_goad\n",
      "dundee_goad\n",
      "edin1849\n",
      "edinburgh_goad\n",
      "edin1893\n",
      "edin1944_1963\n",
      "glasgow_goad\n",
      "glas1894\n",
      "leith_goad\n",
      "OStownsLondon\n",
      "OStownsLondon5280\n",
      "os_london_1056_great_britain\n",
      "os_london_1056\n",
      "os_london_1250\n",
      "oneinchpopular_england_original\n",
      "oneinchpopular_outline_england\n"
     ]
    }
   ],
   "source": [
    "tlf.list_tilelayers()"
   ]
  },
  {
   "cell_type": "code",
   "execution_count": 7,
   "metadata": {},
   "outputs": [
    {
     "name": "stdout",
     "output_type": "stream",
     "text": [
      "airphotos\n",
      "airphotos1250\n",
      "ostwentyfiveinchGreatBritain\n",
      "os25inch1890s\n",
      "oneinchgeology\n",
      "sixinchgeology\n",
      "oneinchlanduse\n",
      "quarterinch\n",
      "halfinchmot\n",
      "OS10knatgridgreat_britain\n",
      "OS10knatgridscot\n",
      "scot1944_1966_group\n",
      "scot1944_1966_group_great_britain\n",
      "OStownsALL\n",
      "OStownsALLeng\n",
      "OStownsALLscot\n",
      "OStownsALL1890s\n",
      "OStownsALL1890seng\n",
      "OStownsALL1890sscot\n",
      "OStownsALL1056\n",
      "OStownsALL1056eng\n",
      "OStownsALL1056scot\n",
      "twentyfive_inch_gloucester_wiltshire_somerset_britain\n",
      "twentyfive_inch_gloucester_wiltshire_somerset\n",
      "oneinchpopular_england\n",
      "oneinchpopular_britain\n"
     ]
    }
   ],
   "source": [
    "tlf.list_group_layers()"
   ]
  },
  {
   "cell_type": "code",
   "execution_count": 8,
   "metadata": {},
   "outputs": [
    {
     "name": "stdout",
     "output_type": "stream",
     "text": [
      "[INFO] Saving tile_data to 'nls_tilelayers.csv'.\n",
      "[INFO] Saving group_data to 'nls_grouplayers.csv'.\n"
     ]
    }
   ],
   "source": [
    "tlf.save_data()"
   ]
  },
  {
   "cell_type": "code",
   "execution_count": 9,
   "metadata": {},
   "outputs": [
    {
     "data": {
      "text/plain": [
       "True"
      ]
     },
     "execution_count": 9,
     "metadata": {},
     "output_type": "execute_result"
    }
   ],
   "source": [
    "\"oneinch2nd\" in list(tlf.tile_data[\"Name\"])"
   ]
  },
  {
   "cell_type": "code",
   "execution_count": 10,
   "metadata": {},
   "outputs": [
    {
     "name": "stdout",
     "output_type": "stream",
     "text": [
      "[INFO] Getting metadata for oneinch2nd (typename: 'nls:OS_One_Inch_GB_WFS')\n",
      "[INFO] XYZ URL for this layer is: 'https://geo.nls.uk/maps/os/1inch_2nd_ed/{z}/{x}/{y}.png'\n",
      "[INFO] Max zoom level for this layer is: 16\n",
      "[INFO] Writing to file: './oneinch2nd.json'\n"
     ]
    }
   ],
   "source": [
    "tlf.create_metadata_json(\"oneinch2nd\")"
   ]
  },
  {
   "cell_type": "code",
   "execution_count": 12,
   "metadata": {},
   "outputs": [
    {
     "data": {
      "text/plain": [
       "True"
      ]
     },
     "execution_count": 12,
     "metadata": {},
     "output_type": "execute_result"
    }
   ],
   "source": [
    "\"oneinchpopular_england\" in list(tlf.group_data[\"Name\"])"
   ]
  },
  {
   "cell_type": "code",
   "execution_count": 13,
   "metadata": {},
   "outputs": [
    {
     "name": "stdout",
     "output_type": "stream",
     "text": [
      "[INFO] Getting metadata for oneinchpopular_england (typename: 'nls:OS_One-Inch-Pop-England-WFS')\n",
      "[INFO] Writing to file: './oneinchpopular_england.json'\n"
     ]
    }
   ],
   "source": [
    "tlf.create_metadata_json(\"oneinchpopular_england\")"
   ]
  }
 ],
 "metadata": {
  "kernelspec": {
   "display_name": "tileserver-finder-x1XFcN8t-py3.11",
   "language": "python",
   "name": "python3"
  },
  "language_info": {
   "codemirror_mode": {
    "name": "ipython",
    "version": 3
   },
   "file_extension": ".py",
   "mimetype": "text/x-python",
   "name": "python",
   "nbconvert_exporter": "python",
   "pygments_lexer": "ipython3",
   "version": "3.11.4"
  }
 },
 "nbformat": 4,
 "nbformat_minor": 2
}
